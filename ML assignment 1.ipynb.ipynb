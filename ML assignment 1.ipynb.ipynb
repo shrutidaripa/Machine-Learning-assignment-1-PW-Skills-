{
 "cells": [
  {
   "cell_type": "markdown",
   "id": "daadb461",
   "metadata": {},
   "source": [
    "Machine learning assignment 1"
   ]
  },
  {
   "cell_type": "markdown",
   "id": "debbb312",
   "metadata": {},
   "source": [
    "Q1. Explain the following with an example\n",
    "\n",
    "1.Artificial Intelligence\n",
    "2.Machine Learning\n",
    "3.Deep Learning\n",
    "ANS \n",
    "1.Artificial intelligence:-Artificial intelligence (AI) is essentially the intelligence demonstrated by machines, in contrast to the natural intelligence displayed by humans and animals. AI systems are programmed to perform tasks that typically require human cognitive abilities like learning, reasoning, problem-solving, and decision-making. ex -self driving cars. \n",
    "2.Machine Learning:-Machine learning (ML) is a subfield of artificial intelligence (AI) that focuses on giving computers the ability to learn without being explicitly programmed. ex-Amazon,Netflix etc\n",
    "3.Deep Learning:-Deep learning is a powerful technique within machine learning inspired by the structure and function of the human brain.ex:-self driving cars."
   ]
  },
  {
   "cell_type": "markdown",
   "id": "5f01c05a",
   "metadata": {},
   "source": [
    "Q2.What is supervised learning? List some exampls of supervised learning ANS:-Supervised learning is a type of machine learning where algorithms are trained on labeled data. This data consists of inputs and their corresponding desired outputs, like a teacher showing a student examples and correcting their mistakes. The goal is for the algorithm to learn the relationship between the inputs and outputs and then be able to accurately predict the output for new, unseen data.ex-Image recognition."
   ]
  },
  {
   "cell_type": "markdown",
   "id": "bab2aee5",
   "metadata": {},
   "source": [
    "Q3.What is unsupervised learning? List some examples of unsupervised learning. ANS:-Unsupervised learning, in contrast to supervised learning, deals with unlabeled data. Unlike supervised learning where the data has predefined categories or outcomes, unsupervised learning algorithms are tasked with discovering hidden patterns and structures within the data itself.ex-Medical diagnosis."
   ]
  },
  {
   "cell_type": "markdown",
   "id": "e7ff78f2",
   "metadata": {},
   "source": [
    "Q4.What is the difference between AI, ML, DL, and DS? ANS:-AI, ML, DL, and DS are all interconnected terms, but they represent different aspects of the field of intelligent systems. Here's a breakdown: AI (Artificial Intelligence): The broadest concept, encompassing machines that mimic human cognitive functions like learning and problem-solving. This can be achieved through various techniques, including machine learning and deep learning. Think of AI as the ultimate goal of creating intelligent machines\n",
    "ML (Machine Learning): A subfield of AI focused on developing algorithms that can learn from data without explicit programming. Imagine teaching a child by showing them examples. Machine learning algorithms improve their performance on a specific task over time as they are exposed to more data.\n",
    "\n",
    "DL (Deep Learning): A powerful technique within machine learning inspired by the structure and function of the human brain. It utilizes artificial neural networks with multiple layers to process information and learn complex patterns from data. Deep learning is particularly effective for tasks like image recognition and natural language processing.\n",
    "\n",
    "DS (Data Science): An interdisciplinary field that involves collecting, cleaning, analyzing, and interpreting data. Data scientists use various techniques, including machine learning and deep learning, to extract insights and knowledge from data. They don't necessarily focus on building intelligent machines, but on using data to solve problems and make informed decisions.\n",
    "\n",
    "Here's an analogy to illustrate the relationship:\n",
    "\n",
    "Imagine building a race car (AI). Machine learning (ML) is like training a driver (the algorithm) through practice and experience (data). Deep learning (DL) is a particularly effective training method that utilizes a complex racing simulator (neural networks) to prepare the driver for various racing scenarios. Data science (DS) is like the team of engineers analyzing the driver's performance and the car's telemetry (data) to identify areas for improvement."
   ]
  },
  {
   "cell_type": "markdown",
   "id": "e6152034",
   "metadata": {},
   "source": [
    "Q5.What are the main differences between supervised, unsupervised, and semi-supervised learning? ANS:-The main differences between supervised, unsupervised, and semi-supervised learning lie in the type of data they use and their learning goals. Here's a breakdown: Supervised learning: Relies on labeled data. This data consists of inputs and their corresponding desired outputs. Imagine having a textbook with questions and answers – that labeled data tells the algorithm what the expected outcome is for each input. Unsupervised learning: Deals with unlabeled data. The data has no predefined categories or classifications. It's like being given a box of mixed-up toys – you have to find the groupings (patterns) yourself. Semi-supervised learning: Uses a combination of labeled and unlabeled data. Typically, a small amount of labeled data is used alongside a much larger amount of unlabeled data."
   ]
  },
  {
   "cell_type": "markdown",
   "id": "ed6bc216",
   "metadata": {},
   "source": [
    "Q6.What is train, test and validation split? Explain the importance of each term. ANS:-Data splitting divides a dataset into three main subsets: the training set, used to train the model; the validation set, used to track model parameters and avoid overfitting; and the testing set, used for checking the model’s performance on new data. The training set importance:- i.Training data is essential for building a robust model that can generalize well to unseen data. ii.The quality and quantity of training data significantly impact the model's performance. The validation set importance:- i.Validation data helps prevent overfitting, a situation where the model performs well on the training data but fails to generalize to new, unseen data. ii.By using validation data to fine-tune hyperparameters, you ensure the model learns the underlying patterns effectively and avoids memorizing just the training examples. The testing set importance:- i.The test data provides a realistic picture of the model'sgeneralizability, which is its ability to perform well on new data. ii.By evaluating the model on unseen data, you get a reliable sense of how effective it will be in practice."
   ]
  },
  {
   "cell_type": "markdown",
   "id": "94a96904",
   "metadata": {},
   "source": [
    "Q7.How can unsupervised learning be used in anomaly ditection? ANS:-Here are some common unsupervised learning techniques used for anomaly detection:\n",
    "\n",
    "I.Clustering: This technique groups data points into clusters based on their similarities. Data points that fall outside of established clusters could be considered anomalies. Imagine clustering customer purchases based on buying habits. A customer suddenly buying unusual items might be an anomaly.\n",
    "\n",
    "II.Dimensionality Reduction: Techniques like Principal Component Analysis (PCA) can reduce the complexity of high-dimensional data. Deviations from the lower-dimensional representation learned by PCA could indicate anomalies. For instance, identifying outliers in sensor data from machinery might indicate a potential equipment malfunction.\n",
    "\n",
    "III.Statistical Methods: Statistical methods like outlier detection can be used to identify data points that fall outside a certain range or deviate from the expected distribution. For example, a financial transaction amount significantly higher than usual spending patterns might be flagged as an anomaly."
   ]
  },
  {
   "cell_type": "markdown",
   "id": "717e998d",
   "metadata": {},
   "source": [
    "Q8.List down some commonly used supervised learning algorithms and unsupervised learning algorithms.\n",
    "ANS:-Supervised Learning Algorithms:\n",
    "Here are some commonly used supervised learning algorithms, categorized by their primary task:\n",
    "\n",
    "Classification:\n",
    "\n",
    "Logistic Regression: Classifies data points into discrete categories (e.g., spam or not spam, cat or dog).\n",
    "Decision Trees: Learns a tree-like structure for classifying data based on a series of rules.\n",
    "Support Vector Machines (SVMs): Creates a hyperplane to separate data points belonging to different classes.\n",
    "K-Nearest Neighbors (KNN): Classifies data points based on the majority vote of their nearest neighbors in the training data.\n",
    "Random Forest: Combines multiple decision trees to improve classification accuracy and reduce overfitting.\n",
    "Regression:\n",
    "\n",
    "Linear Regression: Models the relationship between a dependent variable and one or more independent variables using a linear equation.\n",
    "Polynomial Regression: Similar to linear regression, but uses polynomial functions to model more complex relationships.\n",
    "Support Vector Regression (SVR): Focuses on finding a hyperplane that results in the least error for regression tasks.\n",
    "Unsupervised Learning Algorithms:\n",
    "Here are some commonly used unsupervised learning algorithms:\n",
    "\n",
    "Clustering:\n",
    "\n",
    "K-means Clustering: Groups data points into a predefined number of clusters based on their similarities.\n",
    "Hierarchical Clustering: Creates a hierarchy of clusters by iteratively grouping or splitting data points.\n",
    "Density-Based Spatial Clustering of Applications with Noise (DBSCAN): Identifies clusters of high data density and can handle outliers.\n",
    "Dimensionality Reduction:\n",
    "\n",
    "Principal Component Analysis (PCA): Reduces the dimensionality of data by identifying the components that capture the most variance.\n",
    "Linear Discriminant Analysis (LDA): Similar to PCA, but specifically designed for dimensionality reduction in classification tasks.\n",
    "Anomaly Detection:\n",
    "\n",
    "One-Class SVM: Learns a model that represents \"normal\" data and identifies points that deviate significantly.\n",
    "Isolation Forest: Isolates anomalies by randomly partitioning the data and measuring the number of splits required to isolate a data point.\n",
    "Local Outlier Factor (LOF): Identifies anomalies based on the local density deviation of a data point compared to its neighbors."
   ]
  }
 ],
 "metadata": {
  "kernelspec": {
   "display_name": "Python 3 (ipykernel)",
   "language": "python",
   "name": "python3"
  },
  "language_info": {
   "codemirror_mode": {
    "name": "ipython",
    "version": 3
   },
   "file_extension": ".py",
   "mimetype": "text/x-python",
   "name": "python",
   "nbconvert_exporter": "python",
   "pygments_lexer": "ipython3",
   "version": "3.11.5"
  }
 },
 "nbformat": 4,
 "nbformat_minor": 5
}
